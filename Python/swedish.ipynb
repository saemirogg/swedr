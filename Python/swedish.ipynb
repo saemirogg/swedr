{
 "cells": [
  {
   "cell_type": "code",
   "execution_count": null,
   "metadata": {
    "collapsed": true
   },
   "outputs": [],
   "source": [
    "import os\n",
    "import csv\n",
    "from config import database\n",
    "from sqlalchemy.orm import sessionmaker\n",
    "from database.tools import init_engine\n",
    "from database.models import (Base, Participant, Case, Control, Can, Dors, Sv, Ov)\n",
    "import pandas as pd\n",
    "import numpy as np"
   ]
  },
  {
   "cell_type": "markdown",
   "metadata": {},
   "source": [
    "# Upload to database\n",
    "Upload data to database from csv files. This only works with a mysql user that has adequate privileges."
   ]
  },
  {
   "cell_type": "code",
   "execution_count": null,
   "metadata": {
    "collapsed": true
   },
   "outputs": [],
   "source": [
    "engine = init_engine(database[\"username\"],\n",
    "                     database[\"password\"],\n",
    "                     database[\"dbname\"])\n",
    "\n",
    "if engine.has_table(\"control\"):\n",
    "    Control.__table__.drop(bind=engine)\n",
    "\n",
    "if engine.has_table(\"case\"):\n",
    "    Case.__table__.drop(bind=engine)\n",
    "\n",
    "Base.metadata.create_all(engine)\n",
    "Base.prepare(engine)\n",
    "Session = sessionmaker(engine)\n",
    "session = Session()"
   ]
  },
  {
   "cell_type": "code",
   "execution_count": null,
   "metadata": {
    "collapsed": true
   },
   "outputs": [],
   "source": [
    "cases = pd.read_csv(os.path.join(datadir_swedish, \"cases.csv\"))\n",
    "controls = pd.read_csv(os.path.join(datadir_swedish, \"controls.csv\"))\n",
    "\n",
    "controls.columns = [\"participant_lopnr\", \"case_lopnr\"] + [val.lower() for val in controls.columns[2:]]\n",
    "cases.columns = [\"participant_lopnr\"] + [val.lower() for val in cases.columns[1:]]\n",
    "\n",
    "all_lopnr = cases.participant_lopnr.append(controls.participant_lopnr)\n",
    "all_lopnr = all_lopnr.groupby(all_lopnr).first().astype(int)\n",
    "all_lopnr.index = np.arange(len(all_lopnr))\n",
    "participant = pd.DataFrame({\"lopnr\": all_lopnr})"
   ]
  },
  {
   "cell_type": "code",
   "execution_count": null,
   "metadata": {
    "collapsed": true
   },
   "outputs": [],
   "source": [
    "participant.to_sql(\"participant\", engine, if_exists=\"append\", chunksize=2**8, index=False)"
   ]
  },
  {
   "cell_type": "code",
   "execution_count": null,
   "metadata": {
    "collapsed": true
   },
   "outputs": [],
   "source": [
    "cases.to_sql(\"case\", engine, if_exists=\"append\", chunksize=2**8, index=False)\n",
    "controls.to_sql(\"control\", engine, if_exists=\"append\", chunksize=2**8, index=False)"
   ]
  },
  {
   "cell_type": "code",
   "execution_count": null,
   "metadata": {},
   "outputs": [],
   "source": [
    "ov = pd.read_csv(os.path.join(datadir_swedish, \"ov.csv\"), nrows=100000)\n",
    "sv = pd.read_csv(os.path.join(datadir_swedish, \"sv.csv\"), nrows=100000)\n",
    "can = pd.read_csv(os.path.join(datadir_swedish, \"can.csv\"), nrows=100000)\n",
    "dors = pd.read_csv(os.path.join(datadir_swedish, \"dors.csv\"), nrows=100000, encoding=\"latin-1\")"
   ]
  },
  {
   "cell_type": "code",
   "execution_count": null,
   "metadata": {},
   "outputs": [],
   "source": [
    "sv.columns = [\"participant_lopnr\"] + [val.lower() for val in sv.columns[1:]]\n",
    "(~sv.participant_lopnr.isin(participant.lopnr)).sum()\n",
    "sv.to_sql(\"sv\", engine, if_exists=\"append\", chunksize=2**8, index=False)"
   ]
  },
  {
   "cell_type": "code",
   "execution_count": null,
   "metadata": {},
   "outputs": [],
   "source": [
    "ov[~sv.participant_lopnr.isin(participant.lopnr)][:10]"
   ]
  },
  {
   "cell_type": "code",
   "execution_count": null,
   "metadata": {},
   "outputs": [],
   "source": [
    "c = controls.groupby(\"lopnr\").first()\n",
    "c.index.get_level_values(\"lopnr\").isin(cases.lopnr).sum()"
   ]
  },
  {
   "cell_type": "code",
   "execution_count": null,
   "metadata": {},
   "outputs": [],
   "source": [
    "cases.to_sql(\"case\", engine, if_exists=\"append\", chunksize=20000, index=False)\n",
    "controls.to_sql(\"control\", engine, if_exists=\"append\", chunksize=20000, index=False)"
   ]
  },
  {
   "cell_type": "code",
   "execution_count": null,
   "metadata": {},
   "outputs": [],
   "source": [
    "len(controls.groupby(\"lopnr\")), len(controls)"
   ]
  }
 ],
 "metadata": {
  "kernelspec": {
   "display_name": "Python 3",
   "language": "python",
   "name": "python3"
  },
  "language_info": {
   "codemirror_mode": {
    "name": "ipython",
    "version": 3
   },
   "file_extension": ".py",
   "mimetype": "text/x-python",
   "name": "python",
   "nbconvert_exporter": "python",
   "pygments_lexer": "ipython3",
   "version": "3.6.1"
  }
 },
 "nbformat": 4,
 "nbformat_minor": 2
}
