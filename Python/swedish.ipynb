{
 "cells": [
  {
   "cell_type": "code",
   "execution_count": 1,
   "metadata": {},
   "outputs": [],
   "source": [
    "import os\n",
    "import csv\n",
    "from config import database, datadir\n",
    "from sqlalchemy.orm import sessionmaker\n",
    "from database.tools import init_engine\n",
    "from database.models import (Base, Participant, Case, Control, Can, Dors, Sv, Ov)\n",
    "import pandas as pd\n",
    "import numpy as np"
   ]
  },
  {
   "cell_type": "markdown",
   "metadata": {},
   "source": [
    "## Open session"
   ]
  },
  {
   "cell_type": "code",
   "execution_count": 2,
   "metadata": {},
   "outputs": [],
   "source": [
    "engine = init_engine(database[\"username\"],\n",
    "                     database[\"password\"],\n",
    "                     database[\"dbname\"])\n",
    "\n",
    "# Delete all children tables\n",
    "tables = [\n",
    "    Control, \n",
    "    Case, \n",
    "    Dors, \n",
    "    Can, \n",
    "    Ov, \n",
    "    Sv\n",
    "]\n",
    "\n",
    "for table in tables:\n",
    "    if engine.has_table(table.__tablename__):\n",
    "        table.__table__.drop(bind=engine)\n",
    "\n",
    "# Finally, the parent table\n",
    "if engine.has_table(\"participant\"):\n",
    "    Participant.__table__.drop(bind=engine)\n",
    "\n",
    "Base.metadata.create_all(engine)\n",
    "Base.prepare(engine)\n",
    "Session = sessionmaker(engine)\n",
    "session = Session()\n",
    "session.close()"
   ]
  },
  {
   "cell_type": "markdown",
   "metadata": {},
   "source": [
    "## Upload unique lopnrs"
   ]
  },
  {
   "cell_type": "code",
   "execution_count": 12,
   "metadata": {},
   "outputs": [],
   "source": [
    "# We need a table with all unique lop numbers to use relationships in SQL.\n",
    "# This will be the participant master table, collecting all individuals. We\n",
    "# will call it \"participant\". The table will serve as a hub connecting\n",
    "# all tables together.\n",
    "\n",
    "\n",
    "\n",
    "# Create empty participants df\n",
    "participants = pd.DataFrame({\"lopnr\": []})\n",
    "\n",
    "# Add cases\n",
    "cases = os.path.join(datadir, \"cases.csv\")\n",
    "participants = extract_unique_columns(cases, \"Lopnr_fall\", participants, \"lopnr\")\n",
    "\n",
    "# Add controls\n",
    "controls = os.path.join(datadir, \"controls.csv\")\n",
    "participants = extract_unique_columns(controls, \"Lopnr_kontroll\", participants, \"lopnr\")\n",
    "\n",
    "# Add can\n",
    "can = os.path.join(datadir, \"can.csv\")\n",
    "participants = extract_unique_columns(can, \"LopNr\", participants, \"lopnr\", nrows=100000)\n",
    "\n",
    "# Add dors\n",
    "dors = os.path.join(datadir, \"dors.csv\")\n",
    "participants = extract_unique_columns(dors, \"LopNr\", participants, \"lopnr\", nrows=100000)\n",
    "\n",
    "# Add ov\n",
    "ov = os.path.join(datadir, \"ov.csv\")\n",
    "participants = extract_unique_columns(ov, \"LopNr\", participants, \"lopnr\", nrows=100000)\n",
    "\n",
    "# Add ov\n",
    "sv = os.path.join(datadir, \"sv.csv\")\n",
    "participants = extract_unique_columns(sv, \"LopNr\", participants, \"lopnr\", nrows=100000)"
   ]
  },
  {
   "cell_type": "code",
   "execution_count": 14,
   "metadata": {},
   "outputs": [],
   "source": [
    "participants.to_sql(\"participant\", engine, if_exists=\"append\", chunksize=2**8, index=False)"
   ]
  },
  {
   "cell_type": "markdown",
   "metadata": {},
   "source": [
    "## Load the rest of the data"
   ]
  },
  {
   "cell_type": "code",
   "execution_count": 6,
   "metadata": {
    "scrolled": true
   },
   "outputs": [
    {
     "name": "stderr",
     "output_type": "stream",
     "text": [
      "/home/mab/.conda/envs/istopmm_py3/lib/python3.6/site-packages/IPython/core/interactiveshell.py:2698: DtypeWarning: Columns (14,16) have mixed types. Specify dtype option on import or set low_memory=False.\n",
      "  interactivity=interactivity, compiler=compiler, result=result)\n",
      "/home/mab/.conda/envs/istopmm_py3/lib/python3.6/site-packages/IPython/core/interactiveshell.py:2698: DtypeWarning: Columns (25,26,27,28,29,30,31) have mixed types. Specify dtype option on import or set low_memory=False.\n",
      "  interactivity=interactivity, compiler=compiler, result=result)\n"
     ]
    },
    {
     "ename": "TypeError",
     "evalue": "Index does not support mutable operations",
     "output_type": "error",
     "traceback": [
      "\u001b[0;31m---------------------------------------------------------------------------\u001b[0m",
      "\u001b[0;31mTypeError\u001b[0m                                 Traceback (most recent call last)",
      "\u001b[0;32m<ipython-input-6-a34b0bb0b073>\u001b[0m in \u001b[0;36m<module>\u001b[0;34m()\u001b[0m\n\u001b[1;32m      9\u001b[0m \u001b[0;31m# Change column names to fit with database models in sqlalchemy\u001b[0m\u001b[0;34m\u001b[0m\u001b[0;34m\u001b[0m\u001b[0m\n\u001b[1;32m     10\u001b[0m \u001b[0mcases\u001b[0m\u001b[0;34m.\u001b[0m\u001b[0mcolumns\u001b[0m \u001b[0;34m=\u001b[0m \u001b[0;34m[\u001b[0m\u001b[0;34m\"participant_lopnr\"\u001b[0m\u001b[0;34m]\u001b[0m \u001b[0;34m+\u001b[0m \u001b[0;34m[\u001b[0m\u001b[0mval\u001b[0m\u001b[0;34m.\u001b[0m\u001b[0mlower\u001b[0m\u001b[0;34m(\u001b[0m\u001b[0;34m)\u001b[0m \u001b[0;32mfor\u001b[0m \u001b[0mval\u001b[0m \u001b[0;32min\u001b[0m \u001b[0mcases\u001b[0m\u001b[0;34m.\u001b[0m\u001b[0mcolumns\u001b[0m\u001b[0;34m[\u001b[0m\u001b[0;36m1\u001b[0m\u001b[0;34m:\u001b[0m\u001b[0;34m]\u001b[0m\u001b[0;34m]\u001b[0m\u001b[0;34m\u001b[0m\u001b[0m\n\u001b[0;32m---> 11\u001b[0;31m \u001b[0mcases\u001b[0m\u001b[0;34m.\u001b[0m\u001b[0mcolumns\u001b[0m\u001b[0;34m[\u001b[0m\u001b[0;36m0\u001b[0m\u001b[0;34m]\u001b[0m \u001b[0;34m=\u001b[0m \u001b[0;34m\"participant_lopnr\"\u001b[0m\u001b[0;34m\u001b[0m\u001b[0m\n\u001b[0m\u001b[1;32m     12\u001b[0m \u001b[0mcontrols\u001b[0m\u001b[0;34m.\u001b[0m\u001b[0mcolumns\u001b[0m \u001b[0;34m=\u001b[0m \u001b[0;34m[\u001b[0m\u001b[0;34m\"participant_lopnr\"\u001b[0m\u001b[0;34m,\u001b[0m \u001b[0;34m\"case_lopnr\"\u001b[0m\u001b[0;34m]\u001b[0m \u001b[0;34m+\u001b[0m \u001b[0;34m[\u001b[0m\u001b[0mval\u001b[0m\u001b[0;34m.\u001b[0m\u001b[0mlower\u001b[0m\u001b[0;34m(\u001b[0m\u001b[0;34m)\u001b[0m \u001b[0;32mfor\u001b[0m \u001b[0mval\u001b[0m \u001b[0;32min\u001b[0m \u001b[0mcontrols\u001b[0m\u001b[0;34m.\u001b[0m\u001b[0mcolumns\u001b[0m\u001b[0;34m[\u001b[0m\u001b[0;36m2\u001b[0m\u001b[0;34m:\u001b[0m\u001b[0;34m]\u001b[0m\u001b[0;34m]\u001b[0m\u001b[0;34m\u001b[0m\u001b[0m\n\u001b[1;32m     13\u001b[0m \u001b[0msv\u001b[0m\u001b[0;34m.\u001b[0m\u001b[0mcolumns\u001b[0m \u001b[0;34m=\u001b[0m \u001b[0;34m[\u001b[0m\u001b[0;34m\"participant_lopnr\"\u001b[0m\u001b[0;34m]\u001b[0m \u001b[0;34m+\u001b[0m \u001b[0;34m[\u001b[0m\u001b[0mval\u001b[0m\u001b[0;34m.\u001b[0m\u001b[0mlower\u001b[0m\u001b[0;34m(\u001b[0m\u001b[0;34m)\u001b[0m \u001b[0;32mfor\u001b[0m \u001b[0mval\u001b[0m \u001b[0;32min\u001b[0m \u001b[0msv\u001b[0m\u001b[0;34m.\u001b[0m\u001b[0mcolumns\u001b[0m\u001b[0;34m[\u001b[0m\u001b[0;36m1\u001b[0m\u001b[0;34m:\u001b[0m\u001b[0;34m]\u001b[0m\u001b[0;34m]\u001b[0m\u001b[0;34m\u001b[0m\u001b[0m\n",
      "\u001b[0;32m~/.conda/envs/istopmm_py3/lib/python3.6/site-packages/pandas/core/indexes/base.py\u001b[0m in \u001b[0;36m__setitem__\u001b[0;34m(self, key, value)\u001b[0m\n\u001b[1;32m   1668\u001b[0m \u001b[0;34m\u001b[0m\u001b[0m\n\u001b[1;32m   1669\u001b[0m     \u001b[0;32mdef\u001b[0m \u001b[0m__setitem__\u001b[0m\u001b[0;34m(\u001b[0m\u001b[0mself\u001b[0m\u001b[0;34m,\u001b[0m \u001b[0mkey\u001b[0m\u001b[0;34m,\u001b[0m \u001b[0mvalue\u001b[0m\u001b[0;34m)\u001b[0m\u001b[0;34m:\u001b[0m\u001b[0;34m\u001b[0m\u001b[0m\n\u001b[0;32m-> 1670\u001b[0;31m         \u001b[0;32mraise\u001b[0m \u001b[0mTypeError\u001b[0m\u001b[0;34m(\u001b[0m\u001b[0;34m\"Index does not support mutable operations\"\u001b[0m\u001b[0;34m)\u001b[0m\u001b[0;34m\u001b[0m\u001b[0m\n\u001b[0m\u001b[1;32m   1671\u001b[0m \u001b[0;34m\u001b[0m\u001b[0m\n\u001b[1;32m   1672\u001b[0m     \u001b[0;32mdef\u001b[0m \u001b[0m__getitem__\u001b[0m\u001b[0;34m(\u001b[0m\u001b[0mself\u001b[0m\u001b[0;34m,\u001b[0m \u001b[0mkey\u001b[0m\u001b[0;34m)\u001b[0m\u001b[0;34m:\u001b[0m\u001b[0;34m\u001b[0m\u001b[0m\n",
      "\u001b[0;31mTypeError\u001b[0m: Index does not support mutable operations"
     ]
    }
   ],
   "source": [
    "# Load csvs\n",
    "cases = pd.read_csv(os.path.join(datadir, \"cases.csv\"))\n",
    "controls = pd.read_csv(os.path.join(datadir, \"controls.csv\"))\n",
    "ov = pd.read_csv(os.path.join(datadir, \"ov.csv\"), nrows=100000)\n",
    "sv = pd.read_csv(os.path.join(datadir, \"sv.csv\"), nrows=100000)\n",
    "can = pd.read_csv(os.path.join(datadir, \"can.csv\"), nrows=100000)\n",
    "dors = pd.read_csv(os.path.join(datadir, \"dors.csv\"), nrows=100000, encoding=\"latin-1\")\n",
    "\n",
    "# Change column names to fit with database models in sqlalchemy\n",
    "cases.columns = [\"participant_lopnr\"] + [val.lower() for val in cases.columns[1:]]\n",
    "cases.columns[0] = \"participant_lopnr\"\n",
    "controls.columns = [\"participant_lopnr\", \"case_lopnr\"] + [val.lower() for val in controls.columns[2:]]\n",
    "sv.columns = [\"participant_lopnr\"] + [val.lower() for val in sv.columns[1:]]\n",
    "ov.columns = [\"participant_lopnr\"] + [val.lower() for val in ov.columns[1:]]\n",
    "dors.columns = [\"participant_lopnr\"] + [val.lower() for val in dors.columns[1:]]\n",
    "can.columns = [\"participant_lopnr\"] + [val.lower() for val in can.columns[1:]]"
   ]
  },
  {
   "cell_type": "code",
   "execution_count": 8,
   "metadata": {},
   "outputs": [],
   "source": [
    "cases = os.path.join(datadir, \"cases.csv\")\n",
    "df_cases = pd.read_csv(cases)\n",
    "cols = list(df_cases.columns)\n",
    "cols[0] = \"participant_lopnr\"\n",
    "cols[1] = \"case_lopnr\"\n",
    "df_cases.columns = cols"
   ]
  },
  {
   "cell_type": "markdown",
   "metadata": {},
   "source": [
    "## Everything to MySQL db"
   ]
  },
  {
   "cell_type": "code",
   "execution_count": 4,
   "metadata": {},
   "outputs": [],
   "source": [
    "\n",
    "# Weird non-numeric entries need to be NULL.\n",
    "sv.sjukhus = sv.sjukhus.apply(int_or_null).astype(float)\n",
    "ov.sjukhus = ov.sjukhus.apply(int_or_null).astype(float)\n",
    "can.klinik = can.klinik.apply(int_or_null)"
   ]
  },
  {
   "cell_type": "code",
   "execution_count": null,
   "metadata": {
    "collapsed": true
   },
   "outputs": [],
   "source": [
    "cases.to_sql(\"case\", engine, if_exists=\"append\", chunksize=20000, index=False)\n",
    "controls.to_sql(\"control\", engine, if_exists=\"append\", chunksize=20000, index=False)"
   ]
  },
  {
   "cell_type": "code",
   "execution_count": 5,
   "metadata": {},
   "outputs": [],
   "source": [
    "sv.to_sql(\"sv\", engine, if_exists=\"append\", chunksize=2**8, index=False)\n",
    "ov.to_sql(\"ov\", engine, if_exists=\"append\", chunksize=2**8, index=False)\n",
    "can.to_sql(\"can\", engine, if_exists=\"append\", chunksize=2**8, index=False)\n",
    "dors.to_sql(\"dors\", engine, if_exists=\"append\", chunksize=2**8, index=False)"
   ]
  }
 ],
 "metadata": {
  "kernelspec": {
   "display_name": "Python 3",
   "language": "python",
   "name": "python3"
  },
  "language_info": {
   "codemirror_mode": {
    "name": "ipython",
    "version": 3
   },
   "file_extension": ".py",
   "mimetype": "text/x-python",
   "name": "python",
   "nbconvert_exporter": "python",
   "pygments_lexer": "ipython3",
   "version": "3.6.1"
  }
 },
 "nbformat": 4,
 "nbformat_minor": 2
}
